{
  "nbformat": 4,
  "nbformat_minor": 0,
  "metadata": {
    "colab": {
      "name": "course.capstione.ipynb",
      "provenance": [],
      "collapsed_sections": []
    },
    "kernelspec": {
      "name": "python3",
      "display_name": "Python 3"
    }
  },
  "cells": [
    {
      "cell_type": "markdown",
      "metadata": {
        "id": "PmHQ28Glg697",
        "colab_type": "text"
      },
      "source": [
        "# This notebook is mainly used for Coursera Appliced Data Science Capstone"
      ]
    },
    {
      "cell_type": "code",
      "metadata": {
        "id": "g6lRgDq7g0Kf",
        "colab_type": "code",
        "colab": {}
      },
      "source": [
        "import pandas as pd\n",
        "import numpy as np"
      ],
      "execution_count": 1,
      "outputs": []
    },
    {
      "cell_type": "code",
      "metadata": {
        "id": "dJ8kulyihH_J",
        "colab_type": "code",
        "colab": {
          "base_uri": "https://localhost:8080/",
          "height": 34
        },
        "outputId": "c2291792-6659-473a-c62a-7aa409e5e1d5"
      },
      "source": [
        "print(\"Hello Capstone Project Course!\")"
      ],
      "execution_count": 2,
      "outputs": [
        {
          "output_type": "stream",
          "text": [
            "Hello Capstone Project Course!\n"
          ],
          "name": "stdout"
        }
      ]
    },
    {
      "cell_type": "markdown",
      "metadata": {
        "id": "BbODh5KWj4FF",
        "colab_type": "text"
      },
      "source": [
        "##Crawling data from wikipedia using beautiful soup package"
      ]
    },
    {
      "cell_type": "code",
      "metadata": {
        "id": "aHsD2yHNj-E5",
        "colab_type": "code",
        "colab": {
          "base_uri": "https://localhost:8080/",
          "height": 255
        },
        "outputId": "d3db6ba7-b6ec-4d35-9b46-750d00065e86"
      },
      "source": [
        "import requests\n",
        "from bs4 import BeautifulSoup\n",
        "# import pandas as pd\n",
        "# import numpy as np\n",
        "\n",
        "# get the page\n",
        "response = requests.get(\"https://en.wikipedia.org/wiki/List_of_postal_codes_of_Canada:_M\")\n",
        "\n",
        "# parse the page\n",
        "html=response.text\n",
        "soup=BeautifulSoup(html, \"html.parser\")\n",
        "\n",
        "# use the first table\n",
        "tables = soup.find_all(\"table\")\n",
        "postal_code_table = tables[0]\n",
        "table_headers = []\n",
        "for col in postal_code_table.find_all(\"th\"):\n",
        "  # print(\"  header: '%s'\" % col.text.strip())\n",
        "  table_headers.append(col.text.strip())\n",
        "print(\"headers:\", table_headers)\n",
        "\n",
        "# getting rows, and cells per row\n",
        "rawdata = []\n",
        "rows = postal_code_table.find_all(\"tr\")\n",
        "count = 0\n",
        "for r in rows:\n",
        "  count += 1\n",
        "  cells = r.find_all(\"td\")\n",
        "\n",
        "  # ignore header / invalid rows\n",
        "  if (len(cells) == 0): continue\n",
        "\n",
        "  postalcode    = cells[0].text.strip()\n",
        "  borough       = cells[1].text.strip()\n",
        "  neighborhood  = cells[2].text.strip()\n",
        "\n",
        "  # ignore Borough \"Not assigned\"\n",
        "  if (borough == \"Not assigned\"): continue\n",
        "\n",
        "  # \"Not assigned\" neighborhood makes neighborhood is same as borough\n",
        "  if (neighborhood == \"Not assigned\"):\n",
        "    print(\"%s --> %s\" % (neighborhood, borough))\n",
        "    neighborhood = borough\n",
        "\n",
        "  rawdata.append([postalcode, borough, neighborhood])\n",
        "\n",
        "print(\"total records:\", len(rawdata))\n",
        "df = pd.DataFrame(rawdata, columns = table_headers) \n",
        "# print(len(df[table_headers[0]].values))\n",
        "# print(df)\n",
        "print(df.head(10))\n",
        "\n",
        "print(\"dataset shape: \", df.shape)"
      ],
      "execution_count": 11,
      "outputs": [
        {
          "output_type": "stream",
          "text": [
            "headers: ['Postal Code', 'Borough', 'Neighbourhood']\n",
            "total records: 103\n",
            "  Postal Code           Borough                                Neighbourhood\n",
            "0         M3A        North York                                    Parkwoods\n",
            "1         M4A        North York                             Victoria Village\n",
            "2         M5A  Downtown Toronto                    Regent Park, Harbourfront\n",
            "3         M6A        North York             Lawrence Manor, Lawrence Heights\n",
            "4         M7A  Downtown Toronto  Queen's Park, Ontario Provincial Government\n",
            "5         M9A         Etobicoke      Islington Avenue, Humber Valley Village\n",
            "6         M1B       Scarborough                               Malvern, Rouge\n",
            "7         M3B        North York                                    Don Mills\n",
            "8         M4B         East York              Parkview Hill, Woodbine Gardens\n",
            "9         M5B  Downtown Toronto                     Garden District, Ryerson\n",
            "dataset shape:  (103, 3)\n"
          ],
          "name": "stdout"
        }
      ]
    }
  ]
}
