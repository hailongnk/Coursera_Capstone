{
  "nbformat": 4,
  "nbformat_minor": 0,
  "metadata": {
    "colab": {
      "name": "course.capstione.ipynb",
      "provenance": [],
      "collapsed_sections": []
    },
    "kernelspec": {
      "name": "python3",
      "display_name": "Python 3"
    }
  },
  "cells": [
    {
      "cell_type": "markdown",
      "metadata": {
        "id": "PmHQ28Glg697",
        "colab_type": "text"
      },
      "source": [
        "# This notebook is mainly used for Coursera Appliced Data Science Capstone"
      ]
    },
    {
      "cell_type": "code",
      "metadata": {
        "id": "g6lRgDq7g0Kf",
        "colab_type": "code",
        "colab": {}
      },
      "source": [
        "import pandas as pd\n",
        "import numpy as np"
      ],
      "execution_count": 1,
      "outputs": []
    },
    {
      "cell_type": "code",
      "metadata": {
        "id": "dJ8kulyihH_J",
        "colab_type": "code",
        "colab": {
          "base_uri": "https://localhost:8080/",
          "height": 34
        },
        "outputId": "c2291792-6659-473a-c62a-7aa409e5e1d5"
      },
      "source": [
        "print(\"Hello Capstone Project Course!\")"
      ],
      "execution_count": 2,
      "outputs": [
        {
          "output_type": "stream",
          "text": [
            "Hello Capstone Project Course!\n"
          ],
          "name": "stdout"
        }
      ]
    },
    {
      "cell_type": "markdown",
      "metadata": {
        "id": "BbODh5KWj4FF",
        "colab_type": "text"
      },
      "source": [
        "##Crawling data from wikipedia using beautiful soup package"
      ]
    },
    {
      "cell_type": "code",
      "metadata": {
        "id": "aHsD2yHNj-E5",
        "colab_type": "code",
        "colab": {
          "base_uri": "https://localhost:8080/",
          "height": 255
        },
        "outputId": "d3db6ba7-b6ec-4d35-9b46-750d00065e86"
      },
      "source": [
        "import requests\n",
        "from bs4 import BeautifulSoup\n",
        "# import pandas as pd\n",
        "# import numpy as np\n",
        "\n",
        "# get the page\n",
        "response = requests.get(\"https://en.wikipedia.org/wiki/List_of_postal_codes_of_Canada:_M\")\n",
        "\n",
        "# parse the page\n",
        "html=response.text\n",
        "soup=BeautifulSoup(html, \"html.parser\")\n",
        "\n",
        "# use the first table\n",
        "tables = soup.find_all(\"table\")\n",
        "postal_code_table = tables[0]\n",
        "table_headers = []\n",
        "for col in postal_code_table.find_all(\"th\"):\n",
        "  # print(\"  header: '%s'\" % col.text.strip())\n",
        "  table_headers.append(col.text.strip())\n",
        "print(\"headers:\", table_headers)\n",
        "\n",
        "# getting rows, and cells per row\n",
        "rawdata = []\n",
        "rows = postal_code_table.find_all(\"tr\")\n",
        "count = 0\n",
        "for r in rows:\n",
        "  count += 1\n",
        "  cells = r.find_all(\"td\")\n",
        "\n",
        "  # ignore header / invalid rows\n",
        "  if (len(cells) == 0): continue\n",
        "\n",
        "  postalcode    = cells[0].text.strip()\n",
        "  borough       = cells[1].text.strip()\n",
        "  neighborhood  = cells[2].text.strip()\n",
        "\n",
        "  # ignore Borough \"Not assigned\"\n",
        "  if (borough == \"Not assigned\"): continue\n",
        "\n",
        "  # \"Not assigned\" neighborhood makes neighborhood is same as borough\n",
        "  if (neighborhood == \"Not assigned\"):\n",
        "    print(\"%s --> %s\" % (neighborhood, borough))\n",
        "    neighborhood = borough\n",
        "\n",
        "  rawdata.append([postalcode, borough, neighborhood])\n",
        "\n",
        "print(\"total records:\", len(rawdata))\n",
        "df = pd.DataFrame(rawdata, columns = table_headers) \n",
        "# print(len(df[table_headers[0]].values))\n",
        "# print(df)\n",
        "print(df.head(10))\n",
        "\n",
        "print(\"dataset shape: \", df.shape)"
      ],
      "execution_count": 11,
      "outputs": [
        {
          "output_type": "stream",
          "text": [
            "headers: ['Postal Code', 'Borough', 'Neighbourhood']\n",
            "total records: 103\n",
            "  Postal Code           Borough                                Neighbourhood\n",
            "0         M3A        North York                                    Parkwoods\n",
            "1         M4A        North York                             Victoria Village\n",
            "2         M5A  Downtown Toronto                    Regent Park, Harbourfront\n",
            "3         M6A        North York             Lawrence Manor, Lawrence Heights\n",
            "4         M7A  Downtown Toronto  Queen's Park, Ontario Provincial Government\n",
            "5         M9A         Etobicoke      Islington Avenue, Humber Valley Village\n",
            "6         M1B       Scarborough                               Malvern, Rouge\n",
            "7         M3B        North York                                    Don Mills\n",
            "8         M4B         East York              Parkview Hill, Woodbine Gardens\n",
            "9         M5B  Downtown Toronto                     Garden District, Ryerson\n",
            "dataset shape:  (103, 3)\n"
          ],
          "name": "stdout"
        }
      ]
    },
    {
      "cell_type": "markdown",
      "metadata": {
        "id": "hovGW7xAn8BF",
        "colab_type": "text"
      },
      "source": [
        "## Getting geo lat long"
      ]
    },
    {
      "cell_type": "code",
      "metadata": {
        "id": "PCi50inGpEYH",
        "colab_type": "code",
        "colab": {
          "base_uri": "https://localhost:8080/",
          "height": 547
        },
        "outputId": "3686c3b6-f25c-46d3-9e88-96c50045c21c"
      },
      "source": [
        "!wget -O Geospatial_Coordinates.csv https://cocl.us/Geospatial_data"
      ],
      "execution_count": 17,
      "outputs": [
        {
          "output_type": "stream",
          "text": [
            "--2020-08-16 09:40:32--  https://cocl.us/Geospatial_data\n",
            "Resolving cocl.us (cocl.us)... 169.55.161.7\n",
            "Connecting to cocl.us (cocl.us)|169.55.161.7|:443... connected.\n",
            "HTTP request sent, awaiting response... 301 Moved Permanently\n",
            "Location: https://ibm.box.com/shared/static/9afzr83pps4pwf2smjjcf1y5mvgb18rr.csv [following]\n",
            "--2020-08-16 09:40:34--  https://ibm.box.com/shared/static/9afzr83pps4pwf2smjjcf1y5mvgb18rr.csv\n",
            "Resolving ibm.box.com (ibm.box.com)... 103.116.4.197\n",
            "Connecting to ibm.box.com (ibm.box.com)|103.116.4.197|:443... connected.\n",
            "HTTP request sent, awaiting response... 301 Moved Permanently\n",
            "Location: /public/static/9afzr83pps4pwf2smjjcf1y5mvgb18rr.csv [following]\n",
            "--2020-08-16 09:40:34--  https://ibm.box.com/public/static/9afzr83pps4pwf2smjjcf1y5mvgb18rr.csv\n",
            "Reusing existing connection to ibm.box.com:443.\n",
            "HTTP request sent, awaiting response... 301 Moved Permanently\n",
            "Location: https://ibm.ent.box.com/public/static/9afzr83pps4pwf2smjjcf1y5mvgb18rr.csv [following]\n",
            "--2020-08-16 09:40:34--  https://ibm.ent.box.com/public/static/9afzr83pps4pwf2smjjcf1y5mvgb18rr.csv\n",
            "Resolving ibm.ent.box.com (ibm.ent.box.com)... 103.116.4.201\n",
            "Connecting to ibm.ent.box.com (ibm.ent.box.com)|103.116.4.201|:443... connected.\n",
            "HTTP request sent, awaiting response... 302 Found\n",
            "Location: https://public.boxcloud.com/d/1/b1!wB_biCXndRuNYFbCTqFHx2-u45nXu1UcOUK6eEeA8-IlgN2lHB0ApM3R4cShRy3KXrhG1Q0nkxOwtByehA-fO_b0CwQYCuktMQ2UmBqq815iFi-xHCqRdDnv5vW1iYOhCqkmlOdsfd4b_48kIpZf6Oi-bAggFcLlmuqwTq25ZfwIfyJSr5Y-ztExVFCAi5vg9z-3pywLqP9SpXrEd6stg-Z2wjd6ILE8ngQuEFQk_kUCxfHSpXynRV04SrIP5bOw3IfG6yTaIMbAlsHwP68nKd-XOh9NgcS5tRIMek7V8aMz3PxbQTaQPLbKrlqILPvt9Qw5S7MfLe6UQi1MpGHhRDqrv4rb7zvZ2WhhXdX-7VKSsnh25dSREG5OjHSR3kmxaWHx33YAt-RJ-Gh1X-U-PNkqwpjAZ6ai3JQIVKdjWYKxv8qobNLKhw0cUqn8neY5IGxbVKm3I6RkzAjJADFiY5K9IehYy4YNZ6uoZlQwtRb3FOEYarEUB5WQdDapfGKe-pMW42WcHArwPGZmyqZvZcZ8DXTIkZxkhJFAd3i1fCut-qfhLcsrgOQ75ny4SpBfTmlAn0BVRyNKVNYPsbgQ3ss0wBZ8Czs82S85bH89RO3FjDjqwBkGawykrBUllvnJGLNBkIq2zlpRpF3Hfgt0ofMeBc5NslcCkO5ssAHX8RZYZHQpdy3qTZcCjbZ_g98osW5FB2D4XabPME4j3GZpzgeRwB4_4TRmStrBoXY5kn3UgUjqeGKdcQwhdJCd6AIYAl95BfZmQVR-Dsz8fOE-Ug75RhNRhJVprVybKhdPQGfLsBNZy3RITURo2KbWsBvUg_-TcYFdZsIT2UiTqol2v4dyEfkK5RWmRCJHLHRj82sfLC42foSBsonTj3_T9rzmLKagchrXbw-5wDXZxZf2GbfhFj1mEO7FkyRbD1ASODTgO5_ivJKndK4_eHT32hNu3b0yCm63dlADqd6FuTD_Hci1ERBKe6Ezh0qduSIouXdCE4P3oNdUIvPVR6dROMzaIU_nTJ2ZowT-pT8mK-X50peXm4WvSd400g3oxE0h68j_PKOA7knJfGzM7Q-jmY7A-30N7p-K4HqlnhlyPqHHti52dYQRMlPP7rm1EajwP26X5AYM5QnzubirEurnALwePpZRhjwwOIydcLHEzuUdQDLM7Xg_dZBXnE9pmnqUeJ58SEC7dTtXl9XzPvD-Xkwmhal6QmKbpyIY7boPq44dJUl0498UA2PG_VYABW2gJeujlhxgdUVDnBLNRi8C1v4KVBGX8yX1aHRLQu5t-3QhiGBvhaRv33sDClSoxEJ62gYVulhN7O4rK1RasRilT5xa24IYcdG_CVy1Btq-IqUnG-xvC2RFB8kUEjq2YFAAiAHk8ceDBB5nJvwQGpz7i_Ei4L_QfzMMxRUFY6T4vmCfqcjoojpIHN3SsuWjNZDPitgxjA../download [following]\n",
            "--2020-08-16 09:40:35--  https://public.boxcloud.com/d/1/b1!wB_biCXndRuNYFbCTqFHx2-u45nXu1UcOUK6eEeA8-IlgN2lHB0ApM3R4cShRy3KXrhG1Q0nkxOwtByehA-fO_b0CwQYCuktMQ2UmBqq815iFi-xHCqRdDnv5vW1iYOhCqkmlOdsfd4b_48kIpZf6Oi-bAggFcLlmuqwTq25ZfwIfyJSr5Y-ztExVFCAi5vg9z-3pywLqP9SpXrEd6stg-Z2wjd6ILE8ngQuEFQk_kUCxfHSpXynRV04SrIP5bOw3IfG6yTaIMbAlsHwP68nKd-XOh9NgcS5tRIMek7V8aMz3PxbQTaQPLbKrlqILPvt9Qw5S7MfLe6UQi1MpGHhRDqrv4rb7zvZ2WhhXdX-7VKSsnh25dSREG5OjHSR3kmxaWHx33YAt-RJ-Gh1X-U-PNkqwpjAZ6ai3JQIVKdjWYKxv8qobNLKhw0cUqn8neY5IGxbVKm3I6RkzAjJADFiY5K9IehYy4YNZ6uoZlQwtRb3FOEYarEUB5WQdDapfGKe-pMW42WcHArwPGZmyqZvZcZ8DXTIkZxkhJFAd3i1fCut-qfhLcsrgOQ75ny4SpBfTmlAn0BVRyNKVNYPsbgQ3ss0wBZ8Czs82S85bH89RO3FjDjqwBkGawykrBUllvnJGLNBkIq2zlpRpF3Hfgt0ofMeBc5NslcCkO5ssAHX8RZYZHQpdy3qTZcCjbZ_g98osW5FB2D4XabPME4j3GZpzgeRwB4_4TRmStrBoXY5kn3UgUjqeGKdcQwhdJCd6AIYAl95BfZmQVR-Dsz8fOE-Ug75RhNRhJVprVybKhdPQGfLsBNZy3RITURo2KbWsBvUg_-TcYFdZsIT2UiTqol2v4dyEfkK5RWmRCJHLHRj82sfLC42foSBsonTj3_T9rzmLKagchrXbw-5wDXZxZf2GbfhFj1mEO7FkyRbD1ASODTgO5_ivJKndK4_eHT32hNu3b0yCm63dlADqd6FuTD_Hci1ERBKe6Ezh0qduSIouXdCE4P3oNdUIvPVR6dROMzaIU_nTJ2ZowT-pT8mK-X50peXm4WvSd400g3oxE0h68j_PKOA7knJfGzM7Q-jmY7A-30N7p-K4HqlnhlyPqHHti52dYQRMlPP7rm1EajwP26X5AYM5QnzubirEurnALwePpZRhjwwOIydcLHEzuUdQDLM7Xg_dZBXnE9pmnqUeJ58SEC7dTtXl9XzPvD-Xkwmhal6QmKbpyIY7boPq44dJUl0498UA2PG_VYABW2gJeujlhxgdUVDnBLNRi8C1v4KVBGX8yX1aHRLQu5t-3QhiGBvhaRv33sDClSoxEJ62gYVulhN7O4rK1RasRilT5xa24IYcdG_CVy1Btq-IqUnG-xvC2RFB8kUEjq2YFAAiAHk8ceDBB5nJvwQGpz7i_Ei4L_QfzMMxRUFY6T4vmCfqcjoojpIHN3SsuWjNZDPitgxjA../download\n",
            "Resolving public.boxcloud.com (public.boxcloud.com)... 103.116.4.200\n",
            "Connecting to public.boxcloud.com (public.boxcloud.com)|103.116.4.200|:443... connected.\n",
            "HTTP request sent, awaiting response... 200 OK\n",
            "Length: 2891 (2.8K) [text/csv]\n",
            "Saving to: ‘Geospatial_Coordinates.csv’\n",
            "\n",
            "Geospatial_Coordina 100%[===================>]   2.82K  --.-KB/s    in 0s      \n",
            "\n",
            "2020-08-16 09:40:36 (330 MB/s) - ‘Geospatial_Coordinates.csv’ saved [2891/2891]\n",
            "\n"
          ],
          "name": "stdout"
        }
      ]
    },
    {
      "cell_type": "code",
      "metadata": {
        "id": "84PR0_copH-x",
        "colab_type": "code",
        "colab": {
          "base_uri": "https://localhost:8080/",
          "height": 357
        },
        "outputId": "52c8bb2e-18a2-4e82-bd73-cf218263c4cc"
      },
      "source": [
        "# read from the files\n",
        "# !wget -O Geospatial_Coordinates.csv https://cocl.us/Geospatial_data\n",
        "geolatlongdf = pd.read_csv(\"./Geospatial_Coordinates.csv\")\n",
        "print(\"lat long dataset:\")\n",
        "print(geolatlongdf.head())\n",
        "print(geolatlongdf.shape)\n",
        "\n",
        "# merge geolatlongdf and df together\n",
        "dfmerged = df.merge(geolatlongdf, how=\"left\", on=table_headers[0])\n",
        "print(\"Merged dataset:\")\n",
        "dfmerged.head()\n",
        "# print(dfmerged.shape)"
      ],
      "execution_count": 31,
      "outputs": [
        {
          "output_type": "stream",
          "text": [
            "lat long dataset:\n",
            "  Postal Code   Latitude  Longitude\n",
            "0         M1B  43.806686 -79.194353\n",
            "1         M1C  43.784535 -79.160497\n",
            "2         M1E  43.763573 -79.188711\n",
            "3         M1G  43.770992 -79.216917\n",
            "4         M1H  43.773136 -79.239476\n",
            "(103, 3)\n",
            "Merged dataset:\n"
          ],
          "name": "stdout"
        },
        {
          "output_type": "execute_result",
          "data": {
            "text/html": [
              "<div>\n",
              "<style scoped>\n",
              "    .dataframe tbody tr th:only-of-type {\n",
              "        vertical-align: middle;\n",
              "    }\n",
              "\n",
              "    .dataframe tbody tr th {\n",
              "        vertical-align: top;\n",
              "    }\n",
              "\n",
              "    .dataframe thead th {\n",
              "        text-align: right;\n",
              "    }\n",
              "</style>\n",
              "<table border=\"1\" class=\"dataframe\">\n",
              "  <thead>\n",
              "    <tr style=\"text-align: right;\">\n",
              "      <th></th>\n",
              "      <th>Postal Code</th>\n",
              "      <th>Borough</th>\n",
              "      <th>Neighbourhood</th>\n",
              "      <th>Latitude</th>\n",
              "      <th>Longitude</th>\n",
              "    </tr>\n",
              "  </thead>\n",
              "  <tbody>\n",
              "    <tr>\n",
              "      <th>0</th>\n",
              "      <td>M3A</td>\n",
              "      <td>North York</td>\n",
              "      <td>Parkwoods</td>\n",
              "      <td>43.753259</td>\n",
              "      <td>-79.329656</td>\n",
              "    </tr>\n",
              "    <tr>\n",
              "      <th>1</th>\n",
              "      <td>M4A</td>\n",
              "      <td>North York</td>\n",
              "      <td>Victoria Village</td>\n",
              "      <td>43.725882</td>\n",
              "      <td>-79.315572</td>\n",
              "    </tr>\n",
              "    <tr>\n",
              "      <th>2</th>\n",
              "      <td>M5A</td>\n",
              "      <td>Downtown Toronto</td>\n",
              "      <td>Regent Park, Harbourfront</td>\n",
              "      <td>43.654260</td>\n",
              "      <td>-79.360636</td>\n",
              "    </tr>\n",
              "    <tr>\n",
              "      <th>3</th>\n",
              "      <td>M6A</td>\n",
              "      <td>North York</td>\n",
              "      <td>Lawrence Manor, Lawrence Heights</td>\n",
              "      <td>43.718518</td>\n",
              "      <td>-79.464763</td>\n",
              "    </tr>\n",
              "    <tr>\n",
              "      <th>4</th>\n",
              "      <td>M7A</td>\n",
              "      <td>Downtown Toronto</td>\n",
              "      <td>Queen's Park, Ontario Provincial Government</td>\n",
              "      <td>43.662301</td>\n",
              "      <td>-79.389494</td>\n",
              "    </tr>\n",
              "  </tbody>\n",
              "</table>\n",
              "</div>"
            ],
            "text/plain": [
              "  Postal Code           Borough  ...   Latitude  Longitude\n",
              "0         M3A        North York  ...  43.753259 -79.329656\n",
              "1         M4A        North York  ...  43.725882 -79.315572\n",
              "2         M5A  Downtown Toronto  ...  43.654260 -79.360636\n",
              "3         M6A        North York  ...  43.718518 -79.464763\n",
              "4         M7A  Downtown Toronto  ...  43.662301 -79.389494\n",
              "\n",
              "[5 rows x 5 columns]"
            ]
          },
          "metadata": {
            "tags": []
          },
          "execution_count": 31
        }
      ]
    }
  ]
}
