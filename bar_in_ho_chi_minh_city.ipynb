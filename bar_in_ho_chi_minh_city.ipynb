{
  "nbformat": 4,
  "nbformat_minor": 0,
  "metadata": {
    "colab": {
      "name": "bar.in.ho.chi.minh.city.ipynb",
      "provenance": [],
      "collapsed_sections": []
    },
    "kernelspec": {
      "name": "python3",
      "display_name": "Python 3"
    }
  },
  "cells": [
    {
      "cell_type": "markdown",
      "metadata": {
        "id": "L5KZYXpNRbV6",
        "colab_type": "text"
      },
      "source": [
        "#Selecting place to open a bar in Ho Chi Minh city"
      ]
    },
    {
      "cell_type": "markdown",
      "metadata": {
        "id": "EacCrW5hRkOf",
        "colab_type": "text"
      },
      "source": [
        "## 1. Introduction"
      ]
    },
    {
      "cell_type": "markdown",
      "metadata": {
        "id": "VGwMmtHwRs-1",
        "colab_type": "text"
      },
      "source": [
        "My friends are planning to start new business in Ho Chi Minh city. They would like to open a new bar, and they are looking a good area to open it."
      ]
    },
    {
      "cell_type": "markdown",
      "metadata": {
        "id": "WDLQ1_mZRp_k",
        "colab_type": "text"
      },
      "source": [
        "## 2. Data"
      ]
    },
    {
      "cell_type": "markdown",
      "metadata": {
        "id": "9aRLHBY1ShwW",
        "colab_type": "text"
      },
      "source": [
        "To help selecting good place for a new bar, I would like to use\n",
        "* Ho Chi Minh city has many districts, they are listed in the HCMC goverment website http://www.pso.hochiminhcity.gov.vn/web/guest/danhmucthongke-danhmucquanhuyen These districts will be collected to a spreadsheet\n",
        "* Then, I would use Google Maps API to get lat/long of each district to use with Foursquare API\n",
        "* Foursquare API to get bars and similar places which people usually visit and have a good feedback"
      ]
    },
    {
      "cell_type": "code",
      "metadata": {
        "id": "RVq24l00Rg-v",
        "colab_type": "code",
        "colab": {}
      },
      "source": [
        ""
      ],
      "execution_count": null,
      "outputs": []
    }
  ]
}